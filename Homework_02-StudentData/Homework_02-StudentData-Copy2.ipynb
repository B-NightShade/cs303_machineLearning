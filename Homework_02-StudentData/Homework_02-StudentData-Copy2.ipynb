{
 "cells": [
  {
   "cell_type": "markdown",
   "id": "da8e8ddf",
   "metadata": {},
   "source": [
    "# import statements"
   ]
  },
  {
   "cell_type": "code",
   "execution_count": 1,
   "id": "e0dda12c",
   "metadata": {},
   "outputs": [],
   "source": [
    "import pandas as pd\n",
    "import numpy as np"
   ]
  },
  {
   "cell_type": "markdown",
   "id": "a387acc1",
   "metadata": {},
   "source": [
    "# code to read student.csv into pandas dataframe "
   ]
  },
  {
   "cell_type": "code",
   "execution_count": 2,
   "id": "d7907a5f",
   "metadata": {},
   "outputs": [
    {
     "data": {
      "text/plain": [
       "Index(['school', 'sex', 'age', 'address', 'famsize', 'Pstatus', 'Medu', 'Fedu',\n",
       "       'Mjob', 'Fjob', 'reason', 'guardian', 'traveltime', 'studytime',\n",
       "       'failures', 'schoolsup', 'famsup', 'paid', 'activities', 'nursery',\n",
       "       'higher', 'internet', 'romantic', 'famrel', 'freetime', 'goout', 'Dalc',\n",
       "       'Walc', 'health', 'absences', 'G1', 'G2', 'G3'],\n",
       "      dtype='object')"
      ]
     },
     "execution_count": 2,
     "metadata": {},
     "output_type": "execute_result"
    }
   ],
   "source": [
    "student = pd.read_csv('student.csv', delimiter = ';')\n",
    "student.columns"
   ]
  },
  {
   "cell_type": "markdown",
   "id": "9763d0ec",
   "metadata": {},
   "source": [
    "# helper functions (if needed)"
   ]
  },
  {
   "cell_type": "code",
   "execution_count": 3,
   "id": "449bea30",
   "metadata": {},
   "outputs": [],
   "source": [
    "#python code..."
   ]
  },
  {
   "cell_type": "markdown",
   "id": "7dd6f204",
   "metadata": {},
   "source": [
    "# Python code to answer question 1) What is the minimum, maximum, average, and median final grade (G3 column)?"
   ]
  },
  {
   "cell_type": "code",
   "execution_count": 4,
   "id": "b4814463",
   "metadata": {},
   "outputs": [
    {
     "name": "stdout",
     "output_type": "stream",
     "text": [
      "min:  0\n",
      "max:  20\n",
      "average:  10.415189873417722\n",
      "median:  11.0\n"
     ]
    }
   ],
   "source": [
    "columnG3 = student['G3']\n",
    "minG3 = np.min(columnG3)\n",
    "print(\"min: \", minG3)\n",
    "maxG3 = np.max(columnG3)\n",
    "print(\"max: \", maxG3)\n",
    "avgG3 = np.mean(columnG3)\n",
    "print(\"average: \", avgG3)\n",
    "medianG3 = np.median(columnG3)\n",
    "print(\"median: \", medianG3)"
   ]
  },
  {
   "cell_type": "markdown",
   "id": "4208ba32",
   "metadata": {},
   "source": [
    "# Text answer for question 1."
   ]
  },
  {
   "cell_type": "markdown",
   "id": "82e22871",
   "metadata": {},
   "source": [
    "minimum: 0\n",
    "maximum: 20\n",
    "average: 10.415189873417722\n",
    "median: 11.0"
   ]
  },
  {
   "cell_type": "markdown",
   "id": "f7c61c23",
   "metadata": {},
   "source": [
    "# Python code to answer question 2) Which subgroup of sex, male or female, had the highest average final grade (G3)?"
   ]
  },
  {
   "cell_type": "code",
   "execution_count": 5,
   "id": "d06212a1",
   "metadata": {
    "scrolled": true
   },
   "outputs": [
    {
     "name": "stdout",
     "output_type": "stream",
     "text": [
      "female avg:  9.966346153846153\n",
      "male avg:  10.914438502673796\n"
     ]
    }
   ],
   "source": [
    "female = (student['sex'] == 'F')\n",
    "final_f = student.loc[female, 'G3']\n",
    "avgFFG = np.mean(final_f)\n",
    "print(\"female avg: \", avgFFG)\n",
    "\n",
    "male = (student['sex'] == 'M')\n",
    "final_m = student.loc[male, 'G3']\n",
    "avgMFG = np.mean(final_m)\n",
    "print(\"male avg: \", avgMFG)"
   ]
  },
  {
   "cell_type": "markdown",
   "id": "694c9f29",
   "metadata": {},
   "source": [
    "# Text answer for question 2.  "
   ]
  },
  {
   "cell_type": "markdown",
   "id": "39b7ecca",
   "metadata": {},
   "source": [
    "Male"
   ]
  },
  {
   "cell_type": "markdown",
   "id": "e6f360bb",
   "metadata": {},
   "source": [
    "# Python code to answer question 3) Which subgroup of Fjob had the lowest average final grade?"
   ]
  },
  {
   "cell_type": "code",
   "execution_count": 6,
   "id": "518894ca",
   "metadata": {},
   "outputs": [
    {
     "name": "stdout",
     "output_type": "stream",
     "text": [
      "at home avg:  10.15\n",
      "health avg:  11.61111111111111\n",
      "other avg:  10.193548387096774\n",
      "services avg:  10.297297297297296\n",
      "teacher avg:  11.96551724137931\n"
     ]
    }
   ],
   "source": [
    "at_home = (student['Fjob'] == 'at_home')\n",
    "final_atHome = student.loc[at_home, 'G3']\n",
    "avgAhFG = np.mean(final_atHome)\n",
    "print(\"at home avg: \", avgAhFG)\n",
    "\n",
    "health = (student['Fjob'] == 'health')\n",
    "final_health = student.loc[health, 'G3']\n",
    "avgHFG = np.mean(final_health)\n",
    "print(\"health avg: \", avgHFG)\n",
    "\n",
    "other = (student['Fjob'] == 'other')\n",
    "final_other = student.loc[other, 'G3']\n",
    "avgOFG = np.mean(final_other)\n",
    "print(\"other avg: \", avgOFG)\n",
    "\n",
    "services = (student['Fjob'] == 'services')\n",
    "final_services = student.loc[services, 'G3']\n",
    "avgSFG = np.mean(final_services)\n",
    "print(\"services avg: \", avgSFG)\n",
    "\n",
    "teacher = (student['Fjob'] == 'teacher')\n",
    "final_teacher = student.loc[teacher, 'G3']\n",
    "avgTFG = np.mean(final_teacher)\n",
    "print(\"teacher avg: \", avgTFG)"
   ]
  },
  {
   "cell_type": "markdown",
   "id": "81584745",
   "metadata": {},
   "source": [
    "# Text answer for question 3."
   ]
  },
  {
   "cell_type": "markdown",
   "id": "907a278a",
   "metadata": {},
   "source": [
    "at_home Fjob lowest average final grade"
   ]
  },
  {
   "cell_type": "markdown",
   "id": "2c6e2867",
   "metadata": {},
   "source": [
    "# Python code to answer question 4) On average, did students in romantic relationships get higher or lower final grades?"
   ]
  },
  {
   "cell_type": "code",
   "execution_count": 7,
   "id": "dbdda23b",
   "metadata": {},
   "outputs": [
    {
     "name": "stdout",
     "output_type": "stream",
     "text": [
      "romanic relationship avg:  9.575757575757576\n",
      "no romantic relationship avg:  10.836501901140684\n"
     ]
    }
   ],
   "source": [
    "relationship = (student['romantic'] == 'yes')\n",
    "relationStatus = student.loc[relationship, 'G3']\n",
    "avgRrFG = np.mean(relationStatus)\n",
    "print(\"romanic relationship avg: \", avgRrFG)\n",
    "\n",
    "alone = (student['romantic'] == 'no')\n",
    "aloneAffect = student.loc[alone, 'G3']\n",
    "avgAFG = np.mean(aloneAffect)\n",
    "print(\"no romantic relationship avg: \", avgAFG)"
   ]
  },
  {
   "cell_type": "markdown",
   "id": "5b229575",
   "metadata": {},
   "source": [
    "# Text answer for question 4."
   ]
  },
  {
   "cell_type": "markdown",
   "id": "f7fa543a",
   "metadata": {},
   "source": [
    "lower"
   ]
  },
  {
   "cell_type": "markdown",
   "id": "6a27f637",
   "metadata": {},
   "source": [
    "# Python code to answer question 5) On average, do people with internet access at home make higher or lower final grades than people without internet? "
   ]
  },
  {
   "cell_type": "code",
   "execution_count": 8,
   "id": "13b97032",
   "metadata": {},
   "outputs": [
    {
     "name": "stdout",
     "output_type": "stream",
     "text": [
      "internet access avg:  10.617021276595745\n",
      "No internet access avg:  9.409090909090908\n"
     ]
    }
   ],
   "source": [
    "internet = (student['internet'] == 'yes')\n",
    "internetStatus = student.loc[internet, 'G3']\n",
    "avgIFG = np.mean(internetStatus)\n",
    "print(\"internet access avg: \", avgIFG)\n",
    "\n",
    "no_internet = (student['internet'] == 'no')\n",
    "internetState = student.loc[no_internet, 'G3']\n",
    "avgNiFG = np.mean(internetState)\n",
    "print(\"No internet access avg: \", avgNiFG)"
   ]
  },
  {
   "cell_type": "markdown",
   "id": "9b2e1f51",
   "metadata": {},
   "source": [
    "# Text answer for question 5."
   ]
  },
  {
   "cell_type": "markdown",
   "id": "170104f9",
   "metadata": {},
   "source": [
    "higher"
   ]
  },
  {
   "cell_type": "markdown",
   "id": "62edcfc3",
   "metadata": {},
   "source": [
    "# Python code to answer question 6) What percentage of male students are in romantic relationships?  What percentage of female students are in romantic relationships?"
   ]
  },
  {
   "cell_type": "code",
   "execution_count": 20,
   "id": "22fe5f9e",
   "metadata": {},
   "outputs": [
    {
     "name": "stdout",
     "output_type": "stream",
     "text": [
      "0.53475935828877\n",
      "37.980769230769226\n"
     ]
    },
    {
     "name": "stderr",
     "output_type": "stream",
     "text": [
      "C:\\Users\\weste\\AppData\\Local\\Temp/ipykernel_14952/944344293.py:7: UserWarning: Boolean Series key will be reindexed to match DataFrame index.\n",
      "  fRomantic = student[relationship][females]\n"
     ]
    }
   ],
   "source": [
    "mRomantic = np.where((student['romantic']== 'yes') & (student['sex']=='M'))\n",
    "print(mromantic)\n",
    "men = student.loc[student['sex'] == 'M']\n",
    "percentM = (np.shape(mRomantic)[0]/np.shape(men)[0])*100\n",
    "print(percentM)\n",
    "\n",
    "females = student['sex'] == 'F'\n",
    "fRomantic = student[relationship][females]\n",
    "women = student.loc[student['sex'] == 'F']\n",
    "percentF = (np.shape(fRomantic)[0]/np.shape(women)[0])*100\n",
    "print(percentF)"
   ]
  },
  {
   "cell_type": "markdown",
   "id": "9f65c8eb",
   "metadata": {},
   "source": [
    "# Text answer for question 6."
   ]
  },
  {
   "cell_type": "markdown",
   "id": "e72d6a52",
   "metadata": {},
   "source": [
    "The percent of male students in a romantic relationship is 28.34%.\n",
    "The percent of females in a romantic relationship is 37.98%."
   ]
  },
  {
   "cell_type": "markdown",
   "id": "c0d8fdbf",
   "metadata": {},
   "source": [
    "# Python code to answer question 7) What is the correlation between freetime and final grade? "
   ]
  },
  {
   "cell_type": "code",
   "execution_count": 10,
   "id": "2f94cedd",
   "metadata": {},
   "outputs": [
    {
     "name": "stdout",
     "output_type": "stream",
     "text": [
      "[[1.         0.01130724]\n",
      " [0.01130724 1.        ]]\n"
     ]
    }
   ],
   "source": [
    "columnFt = student['freetime']\n",
    "cor_ftFG = np.corrcoef(columnFt, columnG3)\n",
    "print(cor_ftFG)"
   ]
  },
  {
   "cell_type": "markdown",
   "id": "c1a2c0a7",
   "metadata": {},
   "source": [
    "# Text answer for question 7."
   ]
  },
  {
   "cell_type": "markdown",
   "id": "f28bb7ba",
   "metadata": {},
   "source": [
    "0.01130724"
   ]
  },
  {
   "cell_type": "markdown",
   "id": "f4aa961e",
   "metadata": {},
   "source": [
    "# Python code to answer question 8) What is the correlation between studytime and final grade? "
   ]
  },
  {
   "cell_type": "code",
   "execution_count": 11,
   "id": "fd4ee11d",
   "metadata": {},
   "outputs": [
    {
     "name": "stdout",
     "output_type": "stream",
     "text": [
      "[[1.         0.09781969]\n",
      " [0.09781969 1.        ]]\n"
     ]
    }
   ],
   "source": [
    "columnSt = student['studytime']\n",
    "cor_stFG = np.corrcoef(columnSt, columnG3)\n",
    "print(cor_stFG)"
   ]
  },
  {
   "cell_type": "markdown",
   "id": "ef602b6a",
   "metadata": {},
   "source": [
    "# Text answer for question 8."
   ]
  },
  {
   "cell_type": "markdown",
   "id": "8939ae06",
   "metadata": {},
   "source": [
    "0.09781969"
   ]
  },
  {
   "cell_type": "markdown",
   "id": "e0ca73e2",
   "metadata": {},
   "source": [
    "# Python code to answer question 9) What is the correlation between studytime and freetime? "
   ]
  },
  {
   "cell_type": "code",
   "execution_count": 12,
   "id": "7358c900",
   "metadata": {},
   "outputs": [
    {
     "name": "stdout",
     "output_type": "stream",
     "text": [
      "[[ 1.         -0.14319841]\n",
      " [-0.14319841  1.        ]]\n"
     ]
    }
   ],
   "source": [
    "cor_stFT = np.corrcoef(columnSt, columnFt)\n",
    "print(cor_stFT)"
   ]
  },
  {
   "cell_type": "markdown",
   "id": "cbcc4315",
   "metadata": {},
   "source": [
    "# Text answer for question 9."
   ]
  },
  {
   "cell_type": "markdown",
   "id": "655d09b5",
   "metadata": {},
   "source": [
    "-0.14319841"
   ]
  },
  {
   "cell_type": "markdown",
   "id": "b34487c5",
   "metadata": {},
   "source": [
    "# Python code to answer question 10) Excluding columns G1 and G2, which numerical column had the biggest correlation with final grade (G3)?"
   ]
  },
  {
   "cell_type": "code",
   "execution_count": 17,
   "id": "eca746e9",
   "metadata": {},
   "outputs": [
    {
     "name": "stdout",
     "output_type": "stream",
     "text": [
      "age  corellation: \n",
      "[[ 1.         -0.16157944]\n",
      " [-0.16157944  1.        ]]\n",
      "Medu  corellation: \n",
      "[[1.        0.2171475]\n",
      " [0.2171475 1.       ]]\n",
      "Fedu  corellation: \n",
      "[[1.         0.15245694]\n",
      " [0.15245694 1.        ]]\n",
      "traveltime  corellation: \n",
      "[[ 1.         -0.11714205]\n",
      " [-0.11714205  1.        ]]\n",
      "studytime  corellation: \n",
      "[[1.         0.09781969]\n",
      " [0.09781969 1.        ]]\n",
      "failures  corellation: \n",
      "[[ 1.         -0.36041494]\n",
      " [-0.36041494  1.        ]]\n",
      "famrel  corellation: \n",
      "[[1.         0.05136343]\n",
      " [0.05136343 1.        ]]\n",
      "freetime  corellation: \n",
      "[[1.         0.01130724]\n",
      " [0.01130724 1.        ]]\n",
      "goout  corellation: \n",
      "[[ 1.         -0.13279147]\n",
      " [-0.13279147  1.        ]]\n",
      "Dalc  corellation: \n",
      "[[ 1.         -0.05466004]\n",
      " [-0.05466004  1.        ]]\n",
      "Walc  corellation: \n",
      "[[ 1.         -0.05193932]\n",
      " [-0.05193932  1.        ]]\n",
      "health  corellation: \n",
      "[[ 1.        -0.0613346]\n",
      " [-0.0613346  1.       ]]\n",
      "absences  corellation: \n",
      "[[1.         0.03424732]\n",
      " [0.03424732 1.        ]]\n"
     ]
    }
   ],
   "source": [
    "numColumns = student.select_dtypes(include='int')\n",
    "finalNumColumns = numColumns.drop(['G1', 'G2', 'G3'], axis = 1)\n",
    "\n",
    "for column, data in finalNumColumns.items():\n",
    "    corellation = np.corrcoef(data, columnG3)\n",
    "    print(column, \" corellation: \")\n",
    "    print(corellation)"
   ]
  },
  {
   "cell_type": "markdown",
   "id": "a8ad8027",
   "metadata": {},
   "source": [
    "# Text answer for question 10.  Please identify the column and correlation."
   ]
  },
  {
   "cell_type": "markdown",
   "id": "a9974444",
   "metadata": {},
   "source": [
    "text..."
   ]
  }
 ],
 "metadata": {
  "kernelspec": {
   "display_name": "Python 3 (ipykernel)",
   "language": "python",
   "name": "python3"
  },
  "language_info": {
   "codemirror_mode": {
    "name": "ipython",
    "version": 3
   },
   "file_extension": ".py",
   "mimetype": "text/x-python",
   "name": "python",
   "nbconvert_exporter": "python",
   "pygments_lexer": "ipython3",
   "version": "3.9.7"
  }
 },
 "nbformat": 4,
 "nbformat_minor": 5
}

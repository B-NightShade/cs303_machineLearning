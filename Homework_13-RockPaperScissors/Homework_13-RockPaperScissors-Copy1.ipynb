{
 "cells": [
  {
   "cell_type": "markdown",
   "id": "f197baed",
   "metadata": {},
   "source": [
    "# import modules"
   ]
  },
  {
   "cell_type": "code",
   "execution_count": 1,
   "id": "35b6ad00",
   "metadata": {},
   "outputs": [],
   "source": [
    "import pandas as pd\n",
    "import numpy as np\n",
    "from keras.utils import np_utils\n",
    "from keras.models import Sequential\n",
    "from keras.layers import Dense, Dropout, Flatten\n",
    "from keras.layers.convolutional import Conv2D, MaxPooling2D\n",
    "import matplotlib.pyplot as plt\n",
    "from sklearn.metrics import classification_report"
   ]
  },
  {
   "cell_type": "markdown",
   "id": "1105ae8f",
   "metadata": {},
   "source": [
    "# helper functions (if necessary)"
   ]
  },
  {
   "cell_type": "code",
   "execution_count": 2,
   "id": "87d644aa",
   "metadata": {},
   "outputs": [],
   "source": [
    "def CNN_model(num_classes):\n",
    "    model = Sequential()\n",
    "    model.add(Conv2D(filters = 32,\n",
    "                     kernel_size = (5,5),\n",
    "                     padding='valid',\n",
    "                     input_shape=(32,32,1),\n",
    "                     data_format='channels_last',\n",
    "                     activation='relu'))\n",
    "    model.add(MaxPooling2D(pool_size = (2,2)))\n",
    "    model.add(Dropout(rate=0.2))\n",
    "    model.add(Flatten())\n",
    "    model.add(Dense(units=128, activation='relu'))\n",
    "    model.add(Dense(units=num_classes, activation='softmax'))\n",
    "    model.compile(loss='categorical_crossentropy', optimizer='adam', metrics=['accuracy'])\n",
    "    return model\n",
    "\n",
    "def CNN_model2(num_classes):\n",
    "    model = Sequential()\n",
    "    model.add(Conv2D(filters = 45,\n",
    "                     kernel_size = (8,8),\n",
    "                     padding='valid',\n",
    "                     input_shape=(32,32,1),\n",
    "                     data_format='channels_last',\n",
    "                     activation='tanh'))\n",
    "    model.add(MaxPooling2D(pool_size = (5,5)))\n",
    "    model.add(Dropout(rate=0.2))\n",
    "    model.add(Flatten())\n",
    "    model.add(Dense(units=128, activation='relu'))\n",
    "    model.add(Dense(units=num_classes, activation='softmax'))\n",
    "    model.compile(loss='categorical_crossentropy', optimizer='adam', metrics=['accuracy'])\n",
    "    return model\n",
    "\n",
    "def CNN_model3(num_classes):\n",
    "    model = Sequential()\n",
    "    model.add(Conv2D(filters = 64,\n",
    "                     kernel_size = (3,3),\n",
    "                     padding='valid',\n",
    "                     input_shape=(32,32,1),\n",
    "                     data_format='channels_last',\n",
    "                     activation='tanh'))\n",
    "    model.add(MaxPooling2D(pool_size = (5,5)))\n",
    "    model.add(Conv2D(filters = 32,\n",
    "                     kernel_size = (3,3),\n",
    "                     padding='valid',\n",
    "                     data_format='channels_last',\n",
    "                     activation='tanh'))\n",
    "    model.add(MaxPooling2D(pool_size = (4,4)))\n",
    "    model.add(Dropout(rate=0.2))\n",
    "    model.add(Flatten())\n",
    "    model.add(Dense(units=128, activation='relu'))\n",
    "    model.add(Dense(units=num_classes, activation='softmax'))\n",
    "    model.compile(loss='categorical_crossentropy', optimizer='adam', metrics=['accuracy'])\n",
    "    return model\n",
    "\n",
    "def CNN_model4(num_classes):\n",
    "    model = Sequential()\n",
    "    model.add(Conv2D(filters = 45,\n",
    "                     kernel_size = (8,8),\n",
    "                     padding='valid',\n",
    "                     input_shape=(32,32,1),\n",
    "                     data_format='channels_last',\n",
    "                     activation='tanh'))\n",
    "    model.add(MaxPooling2D(pool_size = (5,5)))\n",
    "    model.add(Dropout(rate=0.2))\n",
    "    model.add(Flatten())\n",
    "    model.add(Dense(units=128, activation='relu'))\n",
    "    model.add(Dense(units=num_classes, activation='softmax'))\n",
    "    model.compile(loss='categorical_crossentropy', optimizer='adam', metrics=['accuracy'], steps_per_execution=(5))\n",
    "    return model\n",
    "\n",
    "def CNN_model5(num_classes):\n",
    "    model = Sequential()\n",
    "    model.add(Conv2D(filters = 45,\n",
    "                     kernel_size = (8,8),\n",
    "                     padding='valid',\n",
    "                     input_shape=(32,32,1),\n",
    "                     data_format='channels_last',\n",
    "                     activation='tanh'))\n",
    "    model.add(MaxPooling2D(pool_size = (5,5)))\n",
    "    model.add(Dropout(rate=0.2))\n",
    "    model.add(Flatten())\n",
    "    model.add(Dense(units=128, activation='relu'))\n",
    "    model.add(Dense(units=num_classes, activation='softmax'))\n",
    "    model.compile(loss='categorical_crossentropy', optimizer='adam', metrics=['accuracy'], steps_per_execution=(14))\n",
    "    return model\n"
   ]
  },
  {
   "cell_type": "markdown",
   "id": "60db026d",
   "metadata": {},
   "source": [
    "# read in training data "
   ]
  },
  {
   "cell_type": "code",
   "execution_count": 3,
   "id": "6e993057",
   "metadata": {},
   "outputs": [],
   "source": [
    "trainData = pd.read_csv(\"train.csv\", delimiter = ',')"
   ]
  },
  {
   "cell_type": "markdown",
   "id": "7c6485b7",
   "metadata": {},
   "source": [
    "# visualize sampling of training data"
   ]
  },
  {
   "cell_type": "code",
   "execution_count": 21,
   "id": "2cf64ae2",
   "metadata": {},
   "outputs": [
    {
     "name": "stdout",
     "output_type": "stream",
     "text": [
      "[0. 1. 2.]\n"
     ]
    },
    {
     "data": {
      "image/png": "[encoded data removed]",
      "text/plain": [
       "<Figure size 432x288 with 1 Axes>"
      ]
     },
     "metadata": {
      "needs_background": "light"
     },
     "output_type": "display_data"
    },
    {
     "data": {
      "image/png": "[encoded data removed]",
      "text/plain": [
       "<Figure size 432x288 with 1 Axes>"
      ]
     },
     "metadata": {
      "needs_background": "light"
     },
     "output_type": "display_data"
    },
    {
     "data": {
      "image/png": "[encoded data removed]",
      "text/plain": [
       "<Figure size 432x288 with 1 Axes>"
      ]
     },
     "metadata": {
      "needs_background": "light"
     },
     "output_type": "display_data"
    },
    {
     "data": {
      "image/png": "[encoded data removed]",
      "text/plain": [
       "<Figure size 432x288 with 1 Axes>"
      ]
     },
     "metadata": {
      "needs_background": "light"
     },
     "output_type": "display_data"
    },
    {
     "data": {
      "image/png": "[encoded data removed]",
      "text/plain": [
       "<Figure size 432x288 with 1 Axes>"
      ]
     },
     "metadata": {
      "needs_background": "light"
     },
     "output_type": "display_data"
    },
    {
     "data": {
      "image/png": "[encoded data removed]",
      "text/plain": [
       "<Figure size 432x288 with 1 Axes>"
      ]
     },
     "metadata": {
      "needs_background": "light"
     },
     "output_type": "display_data"
    }
   ],
   "source": [
    "y= trainData['class']\n",
    "X = trainData.drop(['class'], axis = 1)\n",
    "\n",
    "print(np.unique(y))\n",
    "\n",
    "np.random.seed(22)\n",
    "\n",
    "label = X.loc[trainData['class'] == 0]\n",
    "\n",
    "ranNum1 = np.random.randint(label.shape[0]) \n",
    "\n",
    "x1 = label.iloc[[ranNum1]]\n",
    "x1 = pd.DataFrame.to_numpy(x1)\n",
    "x1 = np.reshape(x1,(32,32))\n",
    "plt.imshow(x1)\n",
    "plt.title(\"ran row image of class 0\")\n",
    "plt.show()\n",
    "\n",
    "\n",
    "label1 = X.loc[trainData['class'] == 1]\n",
    "\n",
    "ranNum2 = np.random.randint(label1.shape[0]) \n",
    "\n",
    "x = label1.iloc[[ranNum2]]\n",
    "x = pd.DataFrame.to_numpy(x)\n",
    "x = np.reshape(x,(32,32))\n",
    "plt.imshow(x)\n",
    "plt.title(\"ran row image of class 1\")\n",
    "plt.show()\n",
    "\n",
    "label2 = X.loc[trainData['class'] == 2]\n",
    "\n",
    "ranNum3 = np.random.randint(label2.shape[0]) \n",
    "\n",
    "x2 = label2.iloc[[ranNum3]]\n",
    "x2 = pd.DataFrame.to_numpy(x2)\n",
    "x2 = np.reshape(x2,(32,32))\n",
    "plt.imshow(x2)\n",
    "plt.title(\"ran row image of class 2\")\n",
    "plt.show()\n",
    "\n",
    "label = X.loc[trainData['class'] == 0]\n",
    "\n",
    "ranNum1 = np.random.randint(label.shape[0]) \n",
    "\n",
    "x1 = label.iloc[[ranNum1]]\n",
    "x1 = pd.DataFrame.to_numpy(x1)\n",
    "x1 = np.reshape(x1,(32,32))\n",
    "plt.imshow(x1)\n",
    "plt.title(\"ran row image of class 0\")\n",
    "plt.show()\n",
    "\n",
    "\n",
    "label1 = X.loc[trainData['class'] == 1]\n",
    "\n",
    "ranNum2 = np.random.randint(label1.shape[0]) \n",
    "\n",
    "x = label1.iloc[[ranNum2]]\n",
    "x = pd.DataFrame.to_numpy(x)\n",
    "x = np.reshape(x,(32,32))\n",
    "plt.imshow(x)\n",
    "plt.title(\"ran row image of class 1\")\n",
    "plt.show()\n",
    "\n",
    "label2 = X.loc[trainData['class'] == 2]\n",
    "\n",
    "ranNum3 = np.random.randint(label2.shape[0]) \n",
    "\n",
    "x2 = label2.iloc[[ranNum3]]\n",
    "x2 = pd.DataFrame.to_numpy(x2)\n",
    "x2 = np.reshape(x2,(32,32))\n",
    "plt.imshow(x2)\n",
    "plt.title(\"ran row image of class 2\")\n",
    "plt.show()\n"
   ]
  },
  {
   "cell_type": "markdown",
   "id": "00846994",
   "metadata": {},
   "source": [
    "# process training data "
   ]
  },
  {
   "cell_type": "code",
   "execution_count": 5,
   "id": "542c6f58",
   "metadata": {},
   "outputs": [],
   "source": [
    "X = pd.DataFrame.to_numpy(X)\n",
    "X = X.reshape(len(X),32,32,1) \n",
    "\n",
    "\n",
    "X = X/255\n",
    "y=np_utils.to_categorical(y)\n",
    "num_classes = y.shape[1]\n"
   ]
  },
  {
   "cell_type": "markdown",
   "id": "fa7945ff",
   "metadata": {},
   "source": [
    "# experiment with training classification models"
   ]
  },
  {
   "cell_type": "code",
   "execution_count": 13,
   "id": "19866064",
   "metadata": {},
   "outputs": [
    {
     "name": "stdout",
     "output_type": "stream",
     "text": [
      "55/55 [==============================] - 2s 26ms/step - loss: 1.0990 - accuracy: 0.3331\n",
      "55/55 [==============================] - 2s 22ms/step - loss: 1.0996 - accuracy: 0.3326\n",
      "55/55 [==============================] - 2s 27ms/step - loss: 1.0999 - accuracy: 0.3137\n",
      "Epoch 1/7\n",
      "55/55 [==============================] - 2s 45ms/step - loss: 1.0992 - accuracy: 0.3149\n",
      "Epoch 2/7\n",
      "55/55 [==============================] - 1s 20ms/step - loss: 1.0992 - accuracy: 0.3400\n",
      "Epoch 3/7\n",
      "55/55 [==============================] - 1s 20ms/step - loss: 1.0981 - accuracy: 0.3577\n",
      "Epoch 4/7\n",
      "55/55 [==============================] - 1s 20ms/step - loss: 1.0973 - accuracy: 0.3457\n",
      "Epoch 5/7\n",
      "55/55 [==============================] - 1s 25ms/step - loss: 1.0816 - accuracy: 0.4314\n",
      "Epoch 6/7\n",
      "55/55 [==============================] - 1s 24ms/step - loss: 1.0383 - accuracy: 0.5217\n",
      "Epoch 7/7\n",
      "55/55 [==============================] - 1s 25ms/step - loss: 0.9108 - accuracy: 0.6400\n",
      "Epoch 1/14\n",
      "55/55 [==============================] - 3s 62ms/step - loss: 1.0995 - accuracy: 0.3263\n",
      "Epoch 2/14\n",
      "55/55 [==============================] - 2s 29ms/step - loss: 1.1001 - accuracy: 0.3326\n",
      "Epoch 3/14\n",
      "55/55 [==============================] - 2s 29ms/step - loss: 1.0990 - accuracy: 0.3326\n",
      "Epoch 4/14\n",
      "55/55 [==============================] - 2s 29ms/step - loss: 1.0981 - accuracy: 0.3486\n",
      "Epoch 5/14\n",
      "55/55 [==============================] - 2s 29ms/step - loss: 1.0964 - accuracy: 0.3697\n",
      "Epoch 6/14\n",
      "55/55 [==============================] - 2s 28ms/step - loss: 1.0849 - accuracy: 0.4000\n",
      "Epoch 7/14\n",
      "55/55 [==============================] - 1s 22ms/step - loss: 1.0276 - accuracy: 0.5383\n",
      "Epoch 8/14\n",
      "55/55 [==============================] - 1s 21ms/step - loss: 0.9028 - accuracy: 0.6320\n",
      "Epoch 9/14\n",
      "55/55 [==============================] - 1s 27ms/step - loss: 0.7483 - accuracy: 0.7383\n",
      "Epoch 10/14\n",
      "55/55 [==============================] - 1s 27ms/step - loss: 0.6378 - accuracy: 0.7840\n",
      "Epoch 11/14\n",
      "55/55 [==============================] - 2s 28ms/step - loss: 0.5489 - accuracy: 0.8269\n",
      "Epoch 12/14\n",
      "55/55 [==============================] - 1s 27ms/step - loss: 0.4794 - accuracy: 0.8457\n",
      "Epoch 13/14\n",
      "55/55 [==============================] - 2s 28ms/step - loss: 0.4316 - accuracy: 0.8537\n",
      "Epoch 14/14\n",
      "55/55 [==============================] - 2s 27ms/step - loss: 0.3971 - accuracy: 0.8703\n",
      "              precision    recall  f1-score   support\n",
      "\n",
      "         0.0       0.91      0.92      0.92       587\n",
      "         1.0       0.80      0.87      0.84       575\n",
      "         2.0       0.95      0.86      0.90       588\n",
      "\n",
      "    accuracy                           0.88      1750\n",
      "   macro avg       0.89      0.88      0.88      1750\n",
      "weighted avg       0.89      0.88      0.88      1750\n",
      "\n"
     ]
    }
   ],
   "source": [
    "cnn = CNN_model(num_classes)\n",
    "cnn.fit(X,y)\n",
    "\n",
    "cnn2 = CNN_model2(num_classes)\n",
    "cnn2.fit(X,y)\n",
    "\n",
    "cnn3 = CNN_model3(num_classes)\n",
    "cnn3.fit(X,y)\n",
    "\n",
    "cnn4 = CNN_model4(num_classes)\n",
    "cnn4.fit(X,y, epochs = 7)\n",
    "\n",
    "y2= trainData['class']\n",
    "y_pred2 = cnn4.predict(X)\n",
    "y_pred2 = np.argmax(y_pred2,axis = 1)\n",
    "\n",
    "cnn5 = CNN_model4(num_classes)\n",
    "cnn5.fit(X,y, epochs = 14)\n",
    "\n",
    "y_pred = cnn5.predict(X)\n",
    "y_pred = np.argmax(y_pred,axis = 1)\n",
    "print(classification_report(y2, y_pred))\n"
   ]
  },
  {
   "cell_type": "markdown",
   "id": "3c5fc968",
   "metadata": {},
   "source": [
    "# train \"fresh\" classification model"
   ]
  },
  {
   "cell_type": "code",
   "execution_count": 14,
   "id": "f8a8e8ed",
   "metadata": {},
   "outputs": [
    {
     "name": "stdout",
     "output_type": "stream",
     "text": [
      "Epoch 1/14\n",
      "55/55 [==============================] - 4s 66ms/step - loss: 1.0992 - accuracy: 0.3269\n",
      "Epoch 2/14\n",
      "55/55 [==============================] - 2s 31ms/step - loss: 1.0991 - accuracy: 0.3389\n",
      "Epoch 3/14\n",
      "55/55 [==============================] - 2s 28ms/step - loss: 1.0987 - accuracy: 0.3474\n",
      "Epoch 4/14\n",
      "55/55 [==============================] - 2s 28ms/step - loss: 1.0983 - accuracy: 0.3400\n",
      "Epoch 5/14\n",
      "55/55 [==============================] - 2s 29ms/step - loss: 1.0967 - accuracy: 0.3554\n",
      "Epoch 6/14\n",
      "55/55 [==============================] - 1s 25ms/step - loss: 1.0923 - accuracy: 0.3811\n",
      "Epoch 7/14\n",
      "55/55 [==============================] - 1s 18ms/step - loss: 1.0687 - accuracy: 0.4360\n",
      "Epoch 8/14\n",
      "55/55 [==============================] - 1s 18ms/step - loss: 0.9924 - accuracy: 0.5777\n",
      "Epoch 9/14\n",
      "55/55 [==============================] - 1s 19ms/step - loss: 0.8535 - accuracy: 0.6394\n",
      "Epoch 10/14\n",
      "55/55 [==============================] - 1s 19ms/step - loss: 0.7527 - accuracy: 0.6760\n",
      "Epoch 11/14\n",
      "55/55 [==============================] - 1s 18ms/step - loss: 0.6734 - accuracy: 0.7497\n",
      "Epoch 12/14\n",
      "55/55 [==============================] - 1s 18ms/step - loss: 0.6133 - accuracy: 0.7749\n",
      "Epoch 13/14\n",
      "55/55 [==============================] - 1s 19ms/step - loss: 0.5560 - accuracy: 0.8097\n",
      "Epoch 14/14\n",
      "55/55 [==============================] - 1s 18ms/step - loss: 0.4985 - accuracy: 0.8269\n"
     ]
    },
    {
     "data": {
      "text/plain": [
       "<keras.callbacks.History at 0x22991ceab20>"
      ]
     },
     "execution_count": 14,
     "metadata": {},
     "output_type": "execute_result"
    }
   ],
   "source": [
    "def CNN_modelF(num_classes):\n",
    "    model = Sequential()\n",
    "    model.add(Conv2D(filters = 45,\n",
    "                     kernel_size = (8,8),\n",
    "                     padding='valid',\n",
    "                     input_shape=(32,32,1),\n",
    "                     data_format='channels_last',\n",
    "                     activation='tanh'))\n",
    "    model.add(MaxPooling2D(pool_size = (5,5)))\n",
    "    model.add(Dropout(rate=0.2))\n",
    "    model.add(Flatten())\n",
    "    model.add(Dense(units=128, activation='relu'))\n",
    "    model.add(Dense(units=num_classes, activation='softmax'))\n",
    "    model.compile(loss='categorical_crossentropy', optimizer='adam', metrics=['accuracy'], steps_per_execution=(14))\n",
    "    return model\n",
    "\n",
    "FinalCNN = CNN_modelF(num_classes)\n",
    "FinalCNN.fit(X,y, epochs = 14) "
   ]
  },
  {
   "cell_type": "markdown",
   "id": "60f5d1b9",
   "metadata": {},
   "source": [
    "# read in test data"
   ]
  },
  {
   "cell_type": "code",
   "execution_count": 15,
   "id": "63740bf8",
   "metadata": {},
   "outputs": [],
   "source": [
    "testData = pd.read_csv(\"test.csv\", delimiter = ',')"
   ]
  },
  {
   "cell_type": "markdown",
   "id": "ee499338",
   "metadata": {},
   "source": [
    "# process test data"
   ]
  },
  {
   "cell_type": "code",
   "execution_count": 16,
   "id": "85f2b5b5",
   "metadata": {},
   "outputs": [],
   "source": [
    "altTest = pd.DataFrame.to_numpy(testData)\n",
    "altTest = altTest.reshape(len(altTest),32,32,1) \n",
    "\n",
    "\n",
    "altTest = altTest/255"
   ]
  },
  {
   "cell_type": "markdown",
   "id": "bf8863fc",
   "metadata": {},
   "source": [
    "# use trained model to predict test data"
   ]
  },
  {
   "cell_type": "code",
   "execution_count": 17,
   "id": "accb6490",
   "metadata": {},
   "outputs": [],
   "source": [
    "labels = FinalCNN.predict(altTest)\n",
    "labels = np.argmax(labels,axis = 1)\n",
    "testData['class'] = labels"
   ]
  },
  {
   "cell_type": "markdown",
   "id": "dc6a77ec",
   "metadata": {},
   "source": [
    "# visualize random test samples with prediction"
   ]
  },
  {
   "cell_type": "code",
   "execution_count": 20,
   "id": "79b67457",
   "metadata": {},
   "outputs": [
    {
     "name": "stdout",
     "output_type": "stream",
     "text": [
      "[0 1 2]\n"
     ]
    },
    {
     "data": {
      "image/png": "[encoded data removed]",
      "text/plain": [
       "<Figure size 432x288 with 1 Axes>"
      ]
     },
     "metadata": {
      "needs_background": "light"
     },
     "output_type": "display_data"
    },
    {
     "data": {
      "image/png": "[encoded data removed]",
      "text/plain": [
       "<Figure size 432x288 with 1 Axes>"
      ]
     },
     "metadata": {
      "needs_background": "light"
     },
     "output_type": "display_data"
    },
    {
     "data": {
      "image/png": "[encoded data removed]",
      "text/plain": [
       "<Figure size 432x288 with 1 Axes>"
      ]
     },
     "metadata": {
      "needs_background": "light"
     },
     "output_type": "display_data"
    },
    {
     "data": {
      "image/png": "[encoded data removed]",
      "text/plain": [
       "<Figure size 432x288 with 1 Axes>"
      ]
     },
     "metadata": {
      "needs_background": "light"
     },
     "output_type": "display_data"
    },
    {
     "data": {
      "image/png": "[encoded data removed]",
      "text/plain": [
       "<Figure size 432x288 with 1 Axes>"
      ]
     },
     "metadata": {
      "needs_background": "light"
     },
     "output_type": "display_data"
    },
    {
     "data": {
      "image/png": "[encoded data removed]",
      "text/plain": [
       "<Figure size 432x288 with 1 Axes>"
      ]
     },
     "metadata": {
      "needs_background": "light"
     },
     "output_type": "display_data"
    }
   ],
   "source": [
    "yt= testData['class']\n",
    "Xt = testData.drop(['class'], axis = 1)\n",
    "\n",
    "print(np.unique(yt))\n",
    "\n",
    "np.random.seed(22)\n",
    "\n",
    "label = Xt.loc[testData['class'] == 0]\n",
    "\n",
    "ranNum1 = np.random.randint(label.shape[0]) \n",
    "\n",
    "x1 = label.iloc[[ranNum1]]\n",
    "x1 = pd.DataFrame.to_numpy(x1)\n",
    "x1 = np.reshape(x1,(32,32))\n",
    "plt.imshow(x1)\n",
    "plt.title(\"ran row image of class 0 test data\")\n",
    "plt.show()\n",
    "\n",
    "\n",
    "label1 = Xt.loc[testData['class'] == 1]\n",
    "\n",
    "ranNum2 = np.random.randint(label1.shape[0]) \n",
    "\n",
    "x = label1.iloc[[ranNum2]]\n",
    "x = pd.DataFrame.to_numpy(x)\n",
    "x = np.reshape(x,(32,32))\n",
    "plt.imshow(x)\n",
    "plt.title(\"ran row image of class 1 test data\")\n",
    "plt.show()\n",
    "\n",
    "label2 = Xt.loc[testData['class'] == 2]\n",
    "\n",
    "ranNum3 = np.random.randint(label2.shape[0]) \n",
    "\n",
    "x2 = label2.iloc[[ranNum3]]\n",
    "x2 = pd.DataFrame.to_numpy(x2)\n",
    "x2 = np.reshape(x2,(32,32))\n",
    "plt.imshow(x2)\n",
    "plt.title(\"ran row image of class 2 test data\")\n",
    "plt.show()\n",
    "\n",
    "label = Xt.loc[testData['class'] == 0]\n",
    "\n",
    "ranNum1 = np.random.randint(label.shape[0]) \n",
    "\n",
    "x1 = label.iloc[[ranNum1]]\n",
    "x1 = pd.DataFrame.to_numpy(x1)\n",
    "x1 = np.reshape(x1,(32,32))\n",
    "plt.imshow(x1)\n",
    "plt.title(\"ran row image of class 0 test data\")\n",
    "plt.show()\n",
    "\n",
    "\n",
    "label1 = Xt.loc[testData['class'] == 1]\n",
    "\n",
    "ranNum2 = np.random.randint(label1.shape[0]) \n",
    "\n",
    "x = label1.iloc[[ranNum2]]\n",
    "x = pd.DataFrame.to_numpy(x)\n",
    "x = np.reshape(x,(32,32))\n",
    "plt.imshow(x)\n",
    "plt.title(\"ran row image of class 1 test data\")\n",
    "plt.show()\n",
    "\n",
    "label2 = Xt.loc[testData['class'] == 2]\n",
    "\n",
    "ranNum3 = np.random.randint(label2.shape[0]) \n",
    "\n",
    "x2 = label2.iloc[[ranNum3]]\n",
    "x2 = pd.DataFrame.to_numpy(x2)\n",
    "x2 = np.reshape(x2,(32,32))\n",
    "plt.imshow(x2)\n",
    "plt.title(\"ran row image of class 2 test data\")\n",
    "plt.show()"
   ]
  },
  {
   "cell_type": "markdown",
   "id": "0de8da7f",
   "metadata": {},
   "source": [
    "# write predicted test data to \\<YourLastName>.csv"
   ]
  },
  {
   "cell_type": "code",
   "execution_count": 22,
   "id": "7b27dcae",
   "metadata": {},
   "outputs": [],
   "source": [
    "testData.to_csv('Cumro.csv', index=False, sep=',')"
   ]
  },
  {
   "cell_type": "code",
   "execution_count": null,
   "id": "b11f9bf3",
   "metadata": {},
   "outputs": [],
   "source": []
  }
 ],
 "metadata": {
  "kernelspec": {
   "display_name": "Python 3 (ipykernel)",
   "language": "python",
   "name": "python3"
  },
  "language_info": {
   "codemirror_mode": {
    "name": "ipython",
    "version": 3
   },
   "file_extension": ".py",
   "mimetype": "text/x-python",
   "name": "python",
   "nbconvert_exporter": "python",
   "pygments_lexer": "ipython3",
   "version": "3.9.7"
  }
 },
 "nbformat": 4,
 "nbformat_minor": 5
}

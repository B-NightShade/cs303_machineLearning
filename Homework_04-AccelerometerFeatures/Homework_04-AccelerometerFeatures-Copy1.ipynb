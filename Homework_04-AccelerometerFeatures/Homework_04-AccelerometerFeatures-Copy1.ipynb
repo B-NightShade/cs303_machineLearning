{
 "cells": [
  {
   "cell_type": "markdown",
   "id": "3933c193",
   "metadata": {},
   "source": [
    "# import statements"
   ]
  },
  {
   "cell_type": "code",
   "execution_count": 2,
   "id": "776ceb70",
   "metadata": {},
   "outputs": [],
   "source": [
    "import pandas as pd\n",
    "import numpy as np\n",
    "import matplotlib.pyplot as plt\n",
    "from sklearn.preprocessing import scale"
   ]
  },
  {
   "cell_type": "markdown",
   "id": "64f27133",
   "metadata": {},
   "source": [
    "# python code to read in data for all participants"
   ]
  },
  {
   "cell_type": "code",
   "execution_count": 3,
   "id": "34429d9b",
   "metadata": {},
   "outputs": [],
   "source": [
    "participants = {}\n",
    "names = [ \"i\", \"x\", \"y\", \"z\", \"activity\"]\n",
    "for i in range(1,15):\n",
    "    participants[i] = pd.read_csv(f\"{i}.csv\", header = None, names= names )\n"
   ]
  },
  {
   "cell_type": "markdown",
   "id": "4f170516",
   "metadata": {},
   "source": [
    "# python code for helper functions (if necessary)"
   ]
  },
  {
   "cell_type": "code",
   "execution_count": 3,
   "id": "e81eb51f",
   "metadata": {},
   "outputs": [],
   "source": [
    "#python code..."
   ]
  },
  {
   "cell_type": "markdown",
   "id": "443fdefd",
   "metadata": {},
   "source": [
    "# python code to visualize accelerometer data for all participants and activities."
   ]
  },
  {
   "cell_type": "code",
   "execution_count": 24,
   "id": "b139a625",
   "metadata": {},
   "outputs": [],
   "source": [
    "activities = [\" working @ computer\", \" SUWGUDS\", \" standing\", \" walking\", \" up/down stairs\", \" walk talk\", \" talk stand\"]\n",
    "for key in participants:\n",
    "    data = participants[key].to_numpy()\n",
    "    a = 1\n",
    "    while(a<8):\n",
    "        act = (data[:, 4] == a)\n",
    "        x = data[act][:,[0,1]]\n",
    "        y = data[act][:,[0,2]]\n",
    "        z = data[act][:,[0,3]]\n",
    "        scaleX = scale(x[:,1])\n",
    "        scaleY = scale(y[:, 1])\n",
    "        scaleZ = scale(z[:, 1])\n",
    "        plt.plot(scaleX+20)\n",
    "        plt.plot(scaleY)\n",
    "        plt.plot(scaleZ-20)\n",
    "        plt.xlabel(\"time(s)\")\n",
    "        plt.ylabel(\"normalized magnitiude\")\n",
    "        plt.legend([\"x\",\"y\", \"z\"])\n",
    "        plt.title(\"participant \" + str(key) + activities[a-1])\n",
    "        plt.xlim(left=0)\n",
    "        plt.show()\n",
    "        a+=1\n"
   ]
  },
  {
   "cell_type": "markdown",
   "id": "2cc88fa4",
   "metadata": {},
   "source": [
    "# 1a) python code to visualize pattern(s) of a specific activity."
   ]
  },
  {
   "cell_type": "code",
   "execution_count": 5,
   "id": "f1296837",
   "metadata": {},
   "outputs": [],
   "source": [
    "#python code..."
   ]
  },
  {
   "cell_type": "markdown",
   "id": "32ba847a",
   "metadata": {},
   "source": [
    "# 1b) Description of pattern(s) linked to activity.  Why would this activity produce this specific data pattern?"
   ]
  },
  {
   "cell_type": "markdown",
   "id": "f9fc9863",
   "metadata": {},
   "source": [
    "Answer goes here..."
   ]
  },
  {
   "cell_type": "markdown",
   "id": "8ba6a04a",
   "metadata": {},
   "source": [
    "# 2a) python code to visualize pattern(s) of another specific activity."
   ]
  },
  {
   "cell_type": "code",
   "execution_count": 6,
   "id": "c5c741cb",
   "metadata": {},
   "outputs": [],
   "source": [
    "#python code..."
   ]
  },
  {
   "cell_type": "markdown",
   "id": "d3777125",
   "metadata": {},
   "source": [
    "# 2b) Description of pattern(s) linked to activity.  Why would this activity produce this specific data pattern?"
   ]
  },
  {
   "cell_type": "markdown",
   "id": "5bf97c47",
   "metadata": {},
   "source": [
    "Answer goes here..."
   ]
  },
  {
   "cell_type": "markdown",
   "id": "7e8924fa",
   "metadata": {},
   "source": [
    "# 3a) python code to visualize pattern(s) of yet another specific activity."
   ]
  },
  {
   "cell_type": "code",
   "execution_count": 7,
   "id": "17cb63b6",
   "metadata": {},
   "outputs": [],
   "source": [
    "#python code..."
   ]
  },
  {
   "cell_type": "markdown",
   "id": "072c427d",
   "metadata": {},
   "source": [
    "# 3b) Description of pattern(s) linked to activity.  Why would this activity produce this specific data pattern?"
   ]
  },
  {
   "cell_type": "markdown",
   "id": "a6a4dedb",
   "metadata": {},
   "source": [
    "Answer goes here..."
   ]
  }
 ],
 "metadata": {
  "kernelspec": {
   "display_name": "Python 3 (ipykernel)",
   "language": "python",
   "name": "python3"
  },
  "language_info": {
   "codemirror_mode": {
    "name": "ipython",
    "version": 3
   },
   "file_extension": ".py",
   "mimetype": "text/x-python",
   "name": "python",
   "nbconvert_exporter": "python",
   "pygments_lexer": "ipython3",
   "version": "3.9.7"
  }
 },
 "nbformat": 4,
 "nbformat_minor": 5
}

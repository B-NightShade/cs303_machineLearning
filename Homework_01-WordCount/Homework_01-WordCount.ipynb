{
 "cells": [
  {
   "cell_type": "markdown",
   "id": "eaf21a2b",
   "metadata": {},
   "source": [
    "# import necessary modules"
   ]
  },
  {
   "cell_type": "code",
   "execution_count": 1,
   "id": "0ecadad5",
   "metadata": {},
   "outputs": [],
   "source": [
    "#import ... "
   ]
  },
  {
   "cell_type": "markdown",
   "id": "11bfa639",
   "metadata": {},
   "source": [
    "# get file names from user"
   ]
  },
  {
   "cell_type": "code",
   "execution_count": 2,
   "id": "9e5bbd02",
   "metadata": {},
   "outputs": [],
   "source": [
    "#code goes here..."
   ]
  },
  {
   "cell_type": "markdown",
   "id": "b7b5632d",
   "metadata": {},
   "source": [
    "# generate word counts of input file"
   ]
  },
  {
   "cell_type": "code",
   "execution_count": 3,
   "id": "debb38f7",
   "metadata": {
    "scrolled": true
   },
   "outputs": [],
   "source": [
    "#code goes here"
   ]
  },
  {
   "cell_type": "markdown",
   "id": "5fd79d36",
   "metadata": {},
   "source": [
    "# write word counts (sorted by word) to output file"
   ]
  },
  {
   "cell_type": "code",
   "execution_count": 4,
   "id": "a8d945d1",
   "metadata": {},
   "outputs": [],
   "source": [
    "#code goes here"
   ]
  },
  {
   "cell_type": "markdown",
   "id": "062114cf",
   "metadata": {},
   "source": [
    "# print word with max count"
   ]
  },
  {
   "cell_type": "code",
   "execution_count": 5,
   "id": "5a8ec5ff",
   "metadata": {},
   "outputs": [],
   "source": [
    "#code goes here"
   ]
  }
 ],
 "metadata": {
  "kernelspec": {
   "display_name": "Python 3 (ipykernel)",
   "language": "python",
   "name": "python3"
  },
  "language_info": {
   "codemirror_mode": {
    "name": "ipython",
    "version": 3
   },
   "file_extension": ".py",
   "mimetype": "text/x-python",
   "name": "python",
   "nbconvert_exporter": "python",
   "pygments_lexer": "ipython3",
   "version": "3.9.7"
  }
 },
 "nbformat": 4,
 "nbformat_minor": 5
}
